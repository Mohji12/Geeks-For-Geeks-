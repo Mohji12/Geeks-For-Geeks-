{
 "cells": [
  {
   "cell_type": "code",
   "execution_count": null,
   "metadata": {},
   "outputs": [],
   "source": [
    "# Confusion Matrix\n",
    "# Precission\n",
    "# Recall\n",
    "# F1 Score"
   ]
  },
  {
   "cell_type": "code",
   "execution_count": null,
   "metadata": {},
   "outputs": [],
   "source": [
    "# Recall(1) = TP/(TP+FN), Recall(0) = TN/(TN+FP)\n",
    "# Precission(1) = TP/(TP+FP)  , P(0) = TN//(TN+FN)\n",
    "# Accuracy = (TP+TN)/(TP+FN+FP+TN)\n",
    "\n",
    "# F1(1) = Recall(1) + Precission(1)\n",
    "# F1(0) = Recall(0) + Precission(0)\n",
    "# IF any score of Prcession and recall is bad we say it is not genralized model\n",
    "# F1 score is the harmonic mean of precision and recall, where an F1 score reaches its\n",
    "# best value at 1 and worst at 0.\n",
    "# Harmonic mean = (2*x1*x2)/x1+x2"
   ]
  },
  {
   "cell_type": "code",
   "execution_count": null,
   "metadata": {},
   "outputs": [],
   "source": [
    "#  Recall(1) = (20)/(20+60) Recall(0) = (80)/(80+80)\n",
    "#  Recall(1) = 0.25 Recall(0) = 0.5\n",
    "#  precision(1) = (20)/(20+80)  Precision(0) = (80)/(80+60)\n",
    "#  precision(1) = 0.2 Precision(0) = 0.57\n",
    "#  F1(1) = 2*(0.2*0.2)/(0.2+0.2)\n",
    "#  F1(1) = 0.04\n",
    "#  F1(0) = 2*(0.57*0.5)/(0.57+0.5)\n",
    "#  F1(0) = 0.36\n",
    "#  F1 = (0.04+0.36)/(0.04+0.36)"
   ]
  },
  {
   "cell_type": "code",
   "execution_count": 3,
   "metadata": {},
   "outputs": [
    {
     "name": "stdout",
     "output_type": "stream",
     "text": [
      "R1 0.25\n",
      "R0 0.5\n",
      "P1 0.2\n",
      "P0 0.5714285714285714\n",
      "F1 Score 0.1\n",
      "F0 Score 0.5714285714285714\n"
     ]
    }
   ],
   "source": [
    "print('R1',(20)/(20+60))\n",
    "print('R0',(80)/(80+80))\n",
    "print('P1',(20)/(20+80))\n",
    "print('P0',(80)/(80+60))\n",
    "print('F1 Score',2*((20)/(20+60)*(20)/(20+80)))\n",
    "print('F0 Score',2*((80)/(80+80)*(80)/(80+60)))\n"
   ]
  },
  {
   "cell_type": "markdown",
   "metadata": {},
   "source": [
    "## Logistic Regeression"
   ]
  },
  {
   "cell_type": "code",
   "execution_count": 4,
   "metadata": {},
   "outputs": [
    {
     "data": {
      "text/plain": [
       "0.5"
      ]
     },
     "execution_count": 4,
     "metadata": {},
     "output_type": "execute_result"
    }
   ],
   "source": [
    "# 1 Error is Large\n",
    "# 2 Interpritation problem were our actual value are 0 and 1 but prediction is 0.24,0.56\n",
    "# Accuracy = (yi-y^)\n",
    "# We use curve to solve high error problem.\n",
    "# We predcit the probability in Logistic Regeression.\n",
    "# Logistic Regerssion is called Logistic regerssson beacuse We try to calculate probability not the categroical data.\n",
    "# We use sigmoid function to calculate the probability. Sigmoid function is also called as logistic function.\n",
    "# Sigmoid Curve \n",
    "# 0.5 is the point where the curve is at the middle. It is the point\n",
    "# 1/1+e^-(mx+c) We Can have Mulitple Sigmoid curve we have find the best fit Sigmoid curve which give minimum error\n",
    "# 1.1 Sigmoid Curve is used to predict the probability of the data. It is\n",
    "# E = 2.71\n",
    "1/(1+2.71**(0))\n",
    "# If x is infinity then the value of sigmoid function is 1\n",
    "# If x is -infinity then the value of sigmoid function is 0"
   ]
  },
  {
   "cell_type": "code",
   "execution_count": null,
   "metadata": {},
   "outputs": [],
   "source": [
    "# By Changing the value of In Sigmoid Curve the curve will shrink to long or small\n",
    "# By Changing the C the position of the sigmoid curve changes"
   ]
  }
 ],
 "metadata": {
  "kernelspec": {
   "display_name": "Python 3",
   "language": "python",
   "name": "python3"
  },
  "language_info": {
   "codemirror_mode": {
    "name": "ipython",
    "version": 3
   },
   "file_extension": ".py",
   "mimetype": "text/x-python",
   "name": "python",
   "nbconvert_exporter": "python",
   "pygments_lexer": "ipython3",
   "version": "3.11.4"
  }
 },
 "nbformat": 4,
 "nbformat_minor": 2
}
