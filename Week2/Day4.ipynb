{
 "cells": [
  {
   "cell_type": "code",
   "execution_count": 1,
   "metadata": {},
   "outputs": [
    {
     "name": "stdout",
     "output_type": "stream",
     "text": [
      "[1, 2, 5]\n"
     ]
    }
   ],
   "source": [
    "# Finding the Factors of Number\n",
    "\n",
    "def fact(n):\n",
    "    fact = []\n",
    "    for i in range(1,n):\n",
    "        if n % i == 0:\n",
    "            fact.append(i)\n",
    "    print(fact)\n",
    "\n",
    "fact(10)\n",
    "\n",
    "\n"
   ]
  },
  {
   "cell_type": "code",
   "execution_count": 35,
   "metadata": {},
   "outputs": [
    {
     "data": {
      "text/plain": [
       "False"
      ]
     },
     "execution_count": 35,
     "metadata": {},
     "output_type": "execute_result"
    }
   ],
   "source": [
    "# Checking whether Number is Prime or Not\n",
    "\n",
    "def prime_num(number):\n",
    "    factor = []\n",
    "\n",
    "    for i in range(1,number + 1):\n",
    "        if number % i == 0:\n",
    "            factor.append(i)\n",
    "    if len(factor)==2:\n",
    "        return True\n",
    "    else:\n",
    "        return False\n",
    "\n",
    "prime_num(14)"
   ]
  },
  {
   "cell_type": "code",
   "execution_count": 4,
   "metadata": {},
   "outputs": [
    {
     "name": "stdout",
     "output_type": "stream",
     "text": [
      "[1, 2, 4]\n",
      "[1, 2, 4, 5, 8, 10, 20, 40]\n",
      "{1, 2, 4}\n"
     ]
    }
   ],
   "source": [
    "# Finding Common factor for two numbers\n",
    "\n",
    "def common_fact(n,m):\n",
    "    fact1 = []\n",
    "    fact2 = []\n",
    "\n",
    "    for i in range(1,n+1):\n",
    "        if n % i == 0:\n",
    "            fact1.append(i)\n",
    "    for j in range(1,m+1):\n",
    "        if m % j == 0:\n",
    "            fact2.append(j)\n",
    "    print(fact1)\n",
    "    print(fact2)\n",
    "    set1 = set(fact1)\n",
    "    set2 = set(fact2)\n",
    "    print(set1.intersection(set2))\n",
    "\n",
    "common_fact(4,40)"
   ]
  },
  {
   "cell_type": "code",
   "execution_count": 10,
   "metadata": {},
   "outputs": [],
   "source": [
    "# Factorial of a number\n",
    "\n",
    "def factorial(n):\n",
    "    if n == 0:\n",
    "        return 1\n",
    "    else:\n",
    "        return n * factorial(n-1)   \n",
    "    "
   ]
  },
  {
   "cell_type": "code",
   "execution_count": 22,
   "metadata": {},
   "outputs": [
    {
     "name": "stdout",
     "output_type": "stream",
     "text": [
      "120\n"
     ]
    }
   ],
   "source": [
    "# Using While Loop\n",
    "n = 5\n",
    "fact1 = 1\n",
    "\n",
    "while n >= 1:\n",
    "    fact1 = fact * n\n",
    "    n = n - 1\n",
    "print(fact)"
   ]
  },
  {
   "cell_type": "code",
   "execution_count": 11,
   "metadata": {},
   "outputs": [
    {
     "data": {
      "text/plain": [
       "120"
      ]
     },
     "execution_count": 11,
     "metadata": {},
     "output_type": "execute_result"
    }
   ],
   "source": [
    "factorial(5)"
   ]
  },
  {
   "cell_type": "markdown",
   "metadata": {},
   "source": [
    "#### Print Vs return\n",
    "\n",
    "###### while using a print we are not abel to store the data\n",
    "###### while using a return we are able to store the data in a variable and use it later in the\n"
   ]
  },
  {
   "cell_type": "code",
   "execution_count": 15,
   "metadata": {},
   "outputs": [
    {
     "data": {
      "text/plain": [
       "0"
      ]
     },
     "execution_count": 15,
     "metadata": {},
     "output_type": "execute_result"
    }
   ],
   "source": [
    "# Default value in function\n",
    "\n",
    "def sum(a=0,b=0):\n",
    "    return a+b\n",
    "\n",
    "sum()"
   ]
  },
  {
   "cell_type": "code",
   "execution_count": 17,
   "metadata": {},
   "outputs": [
    {
     "data": {
      "text/plain": [
       "[1, 2, 6, 24, 120]"
      ]
     },
     "execution_count": 17,
     "metadata": {},
     "output_type": "execute_result"
    }
   ],
   "source": [
    "# Map function is used to apply a function for single time for multiple values\n",
    "# It takes two arguments: function and iterable\n",
    "# If We have Multiple input then provide the multiple list\n",
    "def map_function(func, iterable):\n",
    "    return [func(i) for i in iterable]\n",
    "\n",
    "output = map_function(factorial,[1,2,3,4,5])\n",
    "list(output)\n"
   ]
  },
  {
   "cell_type": "code",
   "execution_count": 24,
   "metadata": {},
   "outputs": [
    {
     "data": {
      "text/plain": [
       "[1, 2, 6, 24, 120]"
      ]
     },
     "execution_count": 24,
     "metadata": {},
     "output_type": "execute_result"
    }
   ],
   "source": [
    "output1  = map(factorial,[1,2,3,4,5])\n",
    "list(output1) "
   ]
  },
  {
   "cell_type": "code",
   "execution_count": 32,
   "metadata": {},
   "outputs": [
    {
     "data": {
      "text/plain": [
       "['Not a Prime', 'Not a Prime', 'Not a Prime', 'Print', 'Print']"
      ]
     },
     "execution_count": 32,
     "metadata": {},
     "output_type": "execute_result"
    }
   ],
   "source": [
    "output2 = map(prime_num,[10,12,14,13,37])\n",
    "list(output2)"
   ]
  },
  {
   "cell_type": "code",
   "execution_count": 36,
   "metadata": {},
   "outputs": [
    {
     "data": {
      "text/plain": [
       "[13, 37]"
      ]
     },
     "execution_count": 36,
     "metadata": {},
     "output_type": "execute_result"
    }
   ],
   "source": [
    "# Filter function used to return the True value from thr define functions\n",
    "\n",
    "output3 = filter(prime_num,[10,12,14,13,37])\n",
    "list(output3)"
   ]
  },
  {
   "cell_type": "code",
   "execution_count": null,
   "metadata": {},
   "outputs": [],
   "source": []
  }
 ],
 "metadata": {
  "kernelspec": {
   "display_name": "Python 3",
   "language": "python",
   "name": "python3"
  },
  "language_info": {
   "codemirror_mode": {
    "name": "ipython",
    "version": 3
   },
   "file_extension": ".py",
   "mimetype": "text/x-python",
   "name": "python",
   "nbconvert_exporter": "python",
   "pygments_lexer": "ipython3",
   "version": "3.11.4"
  }
 },
 "nbformat": 4,
 "nbformat_minor": 2
}
