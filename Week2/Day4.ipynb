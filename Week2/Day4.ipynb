{
 "cells": [
  {
   "cell_type": "code",
   "execution_count": 20,
   "metadata": {},
   "outputs": [
    {
     "name": "stdout",
     "output_type": "stream",
     "text": [
      "[1, 2, 5]\n"
     ]
    }
   ],
   "source": [
    "# Finding the Factors of Number\n",
    "\n",
    "def fact(n):\n",
    "    fact = []\n",
    "    for i in range(1,n):\n",
    "        if n % i == 0:\n",
    "            fact.append(i)\n",
    "    print(fact)\n",
    "\n",
    "fact(10)\n",
    "\n",
    "\n"
   ]
  },
  {
   "cell_type": "code",
   "execution_count": 21,
   "metadata": {},
   "outputs": [
    {
     "data": {
      "text/plain": [
       "False"
      ]
     },
     "execution_count": 21,
     "metadata": {},
     "output_type": "execute_result"
    }
   ],
   "source": [
    "# Checking whether Number is Prime or Not\n",
    "\n",
    "def prime_num(number):\n",
    "    factor = []\n",
    "\n",
    "    for i in range(1,number + 1):\n",
    "        if number % i == 0:\n",
    "            factor.append(i)\n",
    "    if len(factor)==2:\n",
    "        return True\n",
    "    else:\n",
    "        return False\n",
    "\n",
    "prime_num(14)"
   ]
  },
  {
   "cell_type": "code",
   "execution_count": 22,
   "metadata": {},
   "outputs": [
    {
     "name": "stdout",
     "output_type": "stream",
     "text": [
      "[1, 2, 4]\n",
      "[1, 2, 4, 5, 8, 10, 20, 40]\n",
      "{1, 2, 4}\n"
     ]
    }
   ],
   "source": [
    "# Finding Common factor for two numbers\n",
    "\n",
    "def common_fact(n,m):\n",
    "    fact1 = []\n",
    "    fact2 = []\n",
    "\n",
    "    for i in range(1,n+1):\n",
    "        if n % i == 0:\n",
    "            fact1.append(i)\n",
    "    for j in range(1,m+1):\n",
    "        if m % j == 0:\n",
    "            fact2.append(j)\n",
    "    print(fact1)\n",
    "    print(fact2)\n",
    "    set1 = set(fact1)\n",
    "    set2 = set(fact2)\n",
    "    print(set1.intersection(set2))\n",
    "\n",
    "common_fact(4,40)"
   ]
  },
  {
   "cell_type": "code",
   "execution_count": 23,
   "metadata": {},
   "outputs": [],
   "source": [
    "# Factorial of a number\n",
    "\n",
    "def factorial(n):\n",
    "    if n == 0:\n",
    "        return 1\n",
    "    else:\n",
    "        return n * factorial(n-1)   \n",
    "    "
   ]
  },
  {
   "cell_type": "code",
   "execution_count": 24,
   "metadata": {},
   "outputs": [
    {
     "name": "stdout",
     "output_type": "stream",
     "text": [
      "<function fact at 0x0000021E8E2DCA40>\n"
     ]
    }
   ],
   "source": [
    "# Using While Loop\n",
    "n = 5\n",
    "fact1 = 1\n",
    "\n",
    "while n >= 1:\n",
    "    fact1 = fact1 * n\n",
    "    n = n - 1\n",
    "print(fact)"
   ]
  },
  {
   "cell_type": "code",
   "execution_count": 25,
   "metadata": {},
   "outputs": [
    {
     "data": {
      "text/plain": [
       "120"
      ]
     },
     "execution_count": 25,
     "metadata": {},
     "output_type": "execute_result"
    }
   ],
   "source": [
    "factorial(5)"
   ]
  },
  {
   "cell_type": "markdown",
   "metadata": {},
   "source": [
    "#### Print Vs return\n",
    "\n",
    "###### while using a print we are not abel to store the data\n",
    "###### while using a return we are able to store the data in a variable and use it later in the\n"
   ]
  },
  {
   "cell_type": "code",
   "execution_count": 26,
   "metadata": {},
   "outputs": [
    {
     "data": {
      "text/plain": [
       "0"
      ]
     },
     "execution_count": 26,
     "metadata": {},
     "output_type": "execute_result"
    }
   ],
   "source": [
    "# Default value in function\n",
    "\n",
    "def sum(a=0,b=0):\n",
    "    return a+b\n",
    "\n",
    "sum()"
   ]
  },
  {
   "cell_type": "code",
   "execution_count": 27,
   "metadata": {},
   "outputs": [
    {
     "data": {
      "text/plain": [
       "[1, 2, 6, 24, 120]"
      ]
     },
     "execution_count": 27,
     "metadata": {},
     "output_type": "execute_result"
    }
   ],
   "source": [
    "# Map function is used to apply a function for single time for multiple values\n",
    "# It takes two arguments: function and iterable\n",
    "# If We have Multiple input then provide the multiple list\n",
    "def map_function(func, iterable):\n",
    "    return [func(i) for i in iterable]\n",
    "\n",
    "output = map_function(factorial,[1,2,3,4,5])\n",
    "list(output)\n"
   ]
  },
  {
   "cell_type": "code",
   "execution_count": 28,
   "metadata": {},
   "outputs": [
    {
     "data": {
      "text/plain": [
       "[1, 2, 6, 24, 120]"
      ]
     },
     "execution_count": 28,
     "metadata": {},
     "output_type": "execute_result"
    }
   ],
   "source": [
    "output1  = map(factorial,[1,2,3,4,5])\n",
    "list(output1) "
   ]
  },
  {
   "cell_type": "code",
   "execution_count": 29,
   "metadata": {},
   "outputs": [
    {
     "data": {
      "text/plain": [
       "[False, False, False, True, True]"
      ]
     },
     "execution_count": 29,
     "metadata": {},
     "output_type": "execute_result"
    }
   ],
   "source": [
    "output2 = map(prime_num,[10,12,14,13,37])\n",
    "list(output2)"
   ]
  },
  {
   "cell_type": "code",
   "execution_count": 30,
   "metadata": {},
   "outputs": [
    {
     "data": {
      "text/plain": [
       "[13, 37]"
      ]
     },
     "execution_count": 30,
     "metadata": {},
     "output_type": "execute_result"
    }
   ],
   "source": [
    "# Filter function used to return the True value from thr define functions\n",
    "\n",
    "output3 = filter(prime_num,[10,12,14,13,37])\n",
    "list(output3)"
   ]
  },
  {
   "cell_type": "code",
   "execution_count": 31,
   "metadata": {},
   "outputs": [
    {
     "data": {
      "text/plain": [
       "[12, 13, 13, 4, 5, 2, 13]"
      ]
     },
     "execution_count": 31,
     "metadata": {},
     "output_type": "execute_result"
    }
   ],
   "source": [
    "# List Comprehension is a alternative of For Loop\n",
    "\n",
    "l = [12,13,13,4,5,2,13]\n",
    "l1 = []\n",
    "for i in l:\n",
    "    l1.append(i)\n",
    "\n",
    "l1\n",
    "    "
   ]
  },
  {
   "cell_type": "code",
   "execution_count": 32,
   "metadata": {},
   "outputs": [
    {
     "data": {
      "text/plain": [
       "[17, 18, 18, 9, 10, 7, 18]"
      ]
     },
     "execution_count": 32,
     "metadata": {},
     "output_type": "execute_result"
    }
   ],
   "source": [
    "l2 = [i+5 for i in l]\n",
    "l2"
   ]
  },
  {
   "cell_type": "code",
   "execution_count": 33,
   "metadata": {},
   "outputs": [
    {
     "data": {
      "text/plain": [
       "[1, 23]"
      ]
     },
     "execution_count": 33,
     "metadata": {},
     "output_type": "execute_result"
    }
   ],
   "source": [
    "number = 23\n",
    "\n",
    "fact = [i for i in range(1,number + 1) if number % i == 0]\n",
    "fact"
   ]
  },
  {
   "cell_type": "code",
   "execution_count": 34,
   "metadata": {},
   "outputs": [
    {
     "data": {
      "text/plain": [
       "[1, 2, 5, 10]"
      ]
     },
     "execution_count": 34,
     "metadata": {},
     "output_type": "execute_result"
    }
   ],
   "source": [
    "def factorial(n):\n",
    "   return [i for i in range(1,n + 1) if n % i == 0 ]\n",
    "factorial(10)\n"
   ]
  },
  {
   "cell_type": "code",
   "execution_count": 41,
   "metadata": {},
   "outputs": [
    {
     "data": {
      "text/plain": [
       "{0: [],\n",
       " 1: [1],\n",
       " 2: [1, 2],\n",
       " 3: [1, 3],\n",
       " 4: [1, 2, 4],\n",
       " 5: [1, 5],\n",
       " 6: [1, 2, 3, 6],\n",
       " 7: [1, 7],\n",
       " 8: [1, 2, 4, 8],\n",
       " 9: [1, 3, 9],\n",
       " 10: [1, 2, 5, 10],\n",
       " 11: [1, 11],\n",
       " 12: [1, 2, 3, 4, 6, 12],\n",
       " 13: [1, 13],\n",
       " 14: [1, 2, 7, 14],\n",
       " 15: [1, 3, 5, 15],\n",
       " 16: [1, 2, 4, 8, 16],\n",
       " 17: [1, 17],\n",
       " 18: [1, 2, 3, 6, 9, 18],\n",
       " 19: [1, 19]}"
      ]
     },
     "execution_count": 41,
     "metadata": {},
     "output_type": "execute_result"
    }
   ],
   "source": [
    "# Structure [ data,from where data is coming,condition]\n",
    "x = dict({i:factorial(i) for i in range(20)})\n",
    "x"
   ]
  },
  {
   "cell_type": "markdown",
   "metadata": {},
   "source": [
    "### Lambda Function\n",
    "###### lambda is used create a fucntion in one line"
   ]
  },
  {
   "cell_type": "code",
   "execution_count": 43,
   "metadata": {},
   "outputs": [
    {
     "data": {
      "text/plain": [
       "22"
      ]
     },
     "execution_count": 43,
     "metadata": {},
     "output_type": "execute_result"
    }
   ],
   "source": [
    "# Lambda function takes data and operation to perform\n",
    "\n",
    "sum1 = lambda a,b:a+b\n",
    "sum1(10,12)\n"
   ]
  },
  {
   "cell_type": "code",
   "execution_count": 47,
   "metadata": {},
   "outputs": [
    {
     "data": {
      "text/plain": [
       "22"
      ]
     },
     "execution_count": 47,
     "metadata": {},
     "output_type": "execute_result"
    }
   ],
   "source": [
    "x = 3\n",
    "y = 10\n",
    "\n",
    "s = lambda x,y:x + y\n",
    "s(12,10)"
   ]
  },
  {
   "cell_type": "code",
   "execution_count": null,
   "metadata": {},
   "outputs": [],
   "source": [
    "def factorial(n):\n",
    "   return [i for i in range(1,n + 1) if n % i == 0 ]\n",
    "factorial(10)\n"
   ]
  },
  {
   "cell_type": "code",
   "execution_count": 51,
   "metadata": {},
   "outputs": [
    {
     "data": {
      "text/plain": [
       "[1, 2, 3, 4, 6, 8, 12, 24]"
      ]
     },
     "execution_count": 51,
     "metadata": {},
     "output_type": "execute_result"
    }
   ],
   "source": [
    "x = int(input('Enter the Number'))\n",
    "fact = lambda n: [i for i in range(1,n + 1) if n % i == 0 ]\n",
    "fact(x)"
   ]
  },
  {
   "cell_type": "code",
   "execution_count": null,
   "metadata": {},
   "outputs": [],
   "source": [
    "# Checking whether Number is Prime or Not\n",
    "\n",
    "def prime_num(number):\n",
    "    factor = []\n",
    "\n",
    "    for i in range(1,number + 1):\n",
    "        if number % i == 0:\n",
    "            factor.append(i)\n",
    "    if len(factor)==2:\n",
    "        return True\n",
    "    else:\n",
    "        return False\n",
    "\n",
    "prime_num(14)"
   ]
  },
  {
   "cell_type": "code",
   "execution_count": 56,
   "metadata": {},
   "outputs": [
    {
     "data": {
      "text/plain": [
       "['Prime']"
      ]
     },
     "execution_count": 56,
     "metadata": {},
     "output_type": "execute_result"
    }
   ],
   "source": [
    "prime = lambda n: [\"Prime\" if len([i for i in range(1,number + 1) if n % i == 0]) == 2 else \"Not a Prime\"]\n",
    "prime(3)"
   ]
  },
  {
   "cell_type": "code",
   "execution_count": null,
   "metadata": {},
   "outputs": [],
   "source": [
    "# Common factor Function using lambdas HW"
   ]
  },
  {
   "cell_type": "code",
   "execution_count": null,
   "metadata": {},
   "outputs": [],
   "source": [
    "# List Comprehension is a process which replace for Loop\n",
    "# lambda functionc is function used create simple function in oneline code\n",
    "# While defining the complex function in lambda we sue list comprehension"
   ]
  },
  {
   "cell_type": "markdown",
   "metadata": {},
   "source": [
    "#### iterable objects\n",
    "###### Iterable objects are those object which give data one at time\n",
    "###### "
   ]
  },
  {
   "cell_type": "code",
   "execution_count": 185,
   "metadata": {},
   "outputs": [
    {
     "name": "stdout",
     "output_type": "stream",
     "text": [
      "1\n"
     ]
    }
   ],
   "source": [
    "# Range function and Next function\n",
    "\n",
    "l = [i for i in range(1,10)]\n",
    "l2 = (i for i in range(1,10000,2))\n",
    "l\n",
    "print(next(l2))"
   ]
  },
  {
   "cell_type": "code",
   "execution_count": 491,
   "metadata": {},
   "outputs": [
    {
     "data": {
      "text/plain": [
       "613"
      ]
     },
     "execution_count": 491,
     "metadata": {},
     "output_type": "execute_result"
    }
   ],
   "source": [
    "next(l2)\n"
   ]
  }
 ],
 "metadata": {
  "kernelspec": {
   "display_name": "Python 3",
   "language": "python",
   "name": "python3"
  },
  "language_info": {
   "codemirror_mode": {
    "name": "ipython",
    "version": 3
   },
   "file_extension": ".py",
   "mimetype": "text/x-python",
   "name": "python",
   "nbconvert_exporter": "python",
   "pygments_lexer": "ipython3",
   "version": "3.11.4"
  }
 },
 "nbformat": 4,
 "nbformat_minor": 2
}
